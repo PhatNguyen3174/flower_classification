{
 "cells": [
  {
   "cell_type": "code",
   "execution_count": 16,
   "metadata": {},
   "outputs": [],
   "source": [
    "import cv2\n",
    "import os\n",
    "import tensorflow as tf\n",
    "from tensorflow import keras\n",
    "from PIL import Image\n",
    "import numpy as np\n",
    "from sklearn.model_selection import train_test_split\n",
    "from keras.utils import normalize\n",
    "from keras.models import Sequential\n",
    "from keras.layers import Conv2D, MaxPooling2D,InputLayer\n",
    "from keras.layers import Activation, Dropout, Flatten, Dense\n",
    "from keras.utils import to_categorical\n",
    "import random as rn\n",
    "import matplotlib.pyplot as plt\n",
    "from sklearn.preprocessing import LabelEncoder\n",
    "\n",
    "import warnings\n",
    "warnings.filterwarnings('always')\n",
    "warnings.filterwarnings('ignore')\n"
   ]
  },
  {
   "cell_type": "code",
   "execution_count": 2,
   "metadata": {},
   "outputs": [],
   "source": [
    "image_directory='train/'\n",
    "\n",
    "daisy=os.listdir(image_directory+ 'daisy/')\n",
    "dandelion=os.listdir(image_directory+ 'dandelion/')\n",
    "rose = os.listdir(image_directory+ 'rose/')\n",
    "sunflower = os.listdir(image_directory+ 'sunflower/')\n",
    "tulip = os.listdir(image_directory+ 'tulip/')\n",
    "dataset=[]\n",
    "label=[]"
   ]
  },
  {
   "cell_type": "code",
   "execution_count": 3,
   "metadata": {},
   "outputs": [],
   "source": [
    "INPUT_SIZE=64\n",
    "\n",
    "\n",
    "for i , image_name in enumerate(daisy):\n",
    "    if(image_name.split('.')[-1]=='jpg'):\n",
    "        image=cv2.imread(image_directory+ 'daisy/'+image_name)\n",
    "        image=Image.fromarray(image,'RGB')\n",
    "        image=image.resize((INPUT_SIZE,INPUT_SIZE))\n",
    "        dataset.append(np.array(image))\n",
    "        label.append(0)\n",
    "\n",
    "for i , image_name in enumerate(rose):\n",
    "    if(image_name.split('.')[-1]=='jpg'):\n",
    "        image=cv2.imread(image_directory+ 'rose/'+image_name)\n",
    "        image=Image.fromarray(image, 'RGB')\n",
    "        image=image.resize((INPUT_SIZE,INPUT_SIZE))\n",
    "        dataset.append(np.array(image))\n",
    "        label.append(1)\n",
    "\n",
    "for i , image_name in enumerate(tulip):\n",
    "    if(image_name.split('.')[-1]=='jpg'):\n",
    "        image=cv2.imread(image_directory+ 'tulip/'+image_name)\n",
    "        image=Image.fromarray(image, 'RGB')\n",
    "        image=image.resize((INPUT_SIZE,INPUT_SIZE))\n",
    "        dataset.append(np.array(image))\n",
    "        label.append(2)\n",
    "\n",
    "for i , image_name in enumerate(dandelion):\n",
    "    if(image_name.split('.')[-1]=='jpg'):\n",
    "        image=cv2.imread(image_directory+ 'dandelion/'+image_name)\n",
    "        image=Image.fromarray(image, 'RGB')\n",
    "        image=image.resize((INPUT_SIZE,INPUT_SIZE))\n",
    "        dataset.append(np.array(image))\n",
    "        label.append(3)\n",
    "\n",
    "for i , image_name in enumerate(sunflower):\n",
    "    if(image_name.split('.')[-1]=='jpg'):\n",
    "        image=cv2.imread(image_directory+ 'sunflower/'+image_name)\n",
    "        image=Image.fromarray(image, 'RGB')\n",
    "        image=image.resize((INPUT_SIZE,INPUT_SIZE))\n",
    "        dataset.append(np.array(image))\n",
    "        label.append(4)"
   ]
  },
  {
   "cell_type": "code",
   "execution_count": 23,
   "metadata": {},
   "outputs": [
    {
     "name": "stdout",
     "output_type": "stream",
     "text": [
      "(2196, 64, 64, 3)\n"
     ]
    }
   ],
   "source": [
    "dataset=np.array(dataset)\n",
    "label=np.array(label)\n",
    "\n",
    "x_train, x_test, y_train, y_test=train_test_split(dataset, label, test_size=0.2, random_state=0)\n",
    "\n",
    "\n",
    "x_train=normalize(x_train, axis=1)\n",
    "x_test=normalize(x_test, axis=1)\n",
    "\n",
    "\n",
    "\n",
    "print(x_train.shape)\n",
    "y_train=to_categorical(y_train , num_classes=5)\n",
    "y_test=to_categorical(y_test , num_classes=5)"
   ]
  },
  {
   "cell_type": "code",
   "execution_count": 24,
   "metadata": {},
   "outputs": [
    {
     "name": "stdout",
     "output_type": "stream",
     "text": [
      "Epoch 1/16\n",
      "138/138 [==============================] - 7s 41ms/step - loss: 1.5973 - accuracy: 0.2372 - val_loss: 1.5654 - val_accuracy: 0.2691\n",
      "Epoch 2/16\n",
      "138/138 [==============================] - 6s 40ms/step - loss: 1.4271 - accuracy: 0.3757 - val_loss: 1.2474 - val_accuracy: 0.4327\n",
      "Epoch 3/16\n",
      "138/138 [==============================] - 5s 38ms/step - loss: 1.2698 - accuracy: 0.4549 - val_loss: 1.2728 - val_accuracy: 0.4673\n",
      "Epoch 4/16\n",
      "138/138 [==============================] - 5s 37ms/step - loss: 1.2344 - accuracy: 0.4913 - val_loss: 1.1819 - val_accuracy: 0.5255\n",
      "Epoch 5/16\n",
      "138/138 [==============================] - 5s 36ms/step - loss: 1.1678 - accuracy: 0.5187 - val_loss: 1.2067 - val_accuracy: 0.5091\n",
      "Epoch 6/16\n",
      "138/138 [==============================] - 5s 36ms/step - loss: 1.1167 - accuracy: 0.5560 - val_loss: 1.0548 - val_accuracy: 0.5745\n",
      "Epoch 7/16\n",
      "138/138 [==============================] - 5s 37ms/step - loss: 1.0591 - accuracy: 0.5747 - val_loss: 1.0606 - val_accuracy: 0.5764\n",
      "Epoch 8/16\n",
      "138/138 [==============================] - 5s 36ms/step - loss: 1.0149 - accuracy: 0.5961 - val_loss: 1.0840 - val_accuracy: 0.5818\n",
      "Epoch 9/16\n",
      "138/138 [==============================] - 5s 38ms/step - loss: 0.9575 - accuracy: 0.6193 - val_loss: 1.0493 - val_accuracy: 0.5745\n",
      "Epoch 10/16\n",
      "138/138 [==============================] - 5s 36ms/step - loss: 0.9048 - accuracy: 0.6357 - val_loss: 0.9987 - val_accuracy: 0.5945\n",
      "Epoch 11/16\n",
      "138/138 [==============================] - 5s 37ms/step - loss: 0.9020 - accuracy: 0.6339 - val_loss: 0.9483 - val_accuracy: 0.6327\n",
      "Epoch 12/16\n",
      "138/138 [==============================] - 5s 37ms/step - loss: 0.8423 - accuracy: 0.6735 - val_loss: 0.9628 - val_accuracy: 0.6473\n",
      "Epoch 13/16\n",
      "138/138 [==============================] - 5s 37ms/step - loss: 0.7977 - accuracy: 0.6862 - val_loss: 0.9694 - val_accuracy: 0.6200\n",
      "Epoch 14/16\n",
      "138/138 [==============================] - 5s 37ms/step - loss: 0.7502 - accuracy: 0.7086 - val_loss: 0.9075 - val_accuracy: 0.6582\n",
      "Epoch 15/16\n",
      "138/138 [==============================] - 5s 38ms/step - loss: 0.7341 - accuracy: 0.7117 - val_loss: 0.9251 - val_accuracy: 0.6436\n",
      "Epoch 16/16\n",
      "138/138 [==============================] - 5s 37ms/step - loss: 0.6772 - accuracy: 0.7313 - val_loss: 0.9112 - val_accuracy: 0.6564\n"
     ]
    },
    {
     "data": {
      "text/plain": [
       "<keras.callbacks.History at 0x1a887f27580>"
      ]
     },
     "execution_count": 24,
     "metadata": {},
     "output_type": "execute_result"
    }
   ],
   "source": [
    "model=Sequential()\n",
    "model.add(InputLayer(input_shape=(INPUT_SIZE,INPUT_SIZE,3)))\n",
    "model.add(Conv2D(32, (3,3), ))\n",
    "model.add(Activation('relu'))\n",
    "model.add(MaxPooling2D(pool_size=(2,2)))\n",
    "model.add(Conv2D(32, (3,3), kernel_initializer='he_uniform'))\n",
    "model.add(Activation('relu'))\n",
    "model.add(MaxPooling2D(pool_size=(2,2)))\n",
    "\n",
    "\n",
    "model.add(Conv2D(64, (3,3), kernel_initializer='he_uniform'))\n",
    "model.add(Activation('relu'))\n",
    "model.add(MaxPooling2D(pool_size=(2,2)))\n",
    "\n",
    "model.add(Flatten())\n",
    "model.add(Dense(64))\n",
    "model.add(Activation('relu'))\n",
    "model.add(Dropout(0.5))\n",
    "model.add(Dense(5))\n",
    "model.add(Activation('softmax'))\n",
    "\n",
    "model.compile(loss='categorical_crossentropy',optimizer='adam', metrics=['accuracy'])\n",
    "\n",
    "\n",
    "model.fit(x_train, y_train, \n",
    "batch_size=16, \n",
    "verbose=1, epochs=16, \n",
    "validation_data=(x_test, y_test),\n",
    "shuffle=False)"
   ]
  },
  {
   "cell_type": "code",
   "execution_count": 25,
   "metadata": {},
   "outputs": [
    {
     "name": "stdout",
     "output_type": "stream",
     "text": [
      "18/18 [==============================] - 1s 21ms/step\n"
     ]
    }
   ],
   "source": [
    "pred=model.predict(x_test)\n",
    "pred_digits=np.argmax(pred,axis=1)"
   ]
  },
  {
   "cell_type": "code",
   "execution_count": 27,
   "metadata": {},
   "outputs": [],
   "source": [
    "from keras.models import load_model\n",
    "from sklearn.metrics import confusion_matrix, f1_score, precision_score, recall_score, accuracy_score\n",
    "\n",
    "\n",
    "pred=(pred>0.01) .astype (int)\n",
    "y_true=np.reshape (y_test, [-1])\n",
    "y_pred=np.reshape (pred, [-1])\n",
    "#Evaluation index\n",
    "accuracy=accuracy_score (y_true, y_pred)\n",
    "precision=precision_score (y_true, y_pred)\n",
    "recall=recall_score (y_true, y_pred, average=\"binary\")\n",
    "f1score=f1_score (y_true, y_pred, average=\"binary\")"
   ]
  },
  {
   "cell_type": "code",
   "execution_count": 28,
   "metadata": {},
   "outputs": [
    {
     "data": {
      "text/plain": [
       "[Text(0.5, 1.0, 'Đánh giá độ chính xác CNN')]"
      ]
     },
     "execution_count": 28,
     "metadata": {},
     "output_type": "execute_result"
    },
    {
     "data": {
      "image/png": "[encoded data removed]",
      "text/plain": [
       "<Figure size 640x480 with 1 Axes>"
      ]
     },
     "metadata": {},
     "output_type": "display_data"
    }
   ],
   "source": [
    "evaluation = {\n",
    "    \"accuracy:\" :accuracy,\n",
    "    \"precision:\" :precision,\n",
    "    \"recall:\": recall,\n",
    "    \"f1score:\": f1score\n",
    "}\n",
    "fig, ax = plt.subplots()\n",
    "ax.bar(evaluation.keys(), evaluation.values())\n",
    "ax.set(title=\"Đánh giá độ chính xác CNN\")"
   ]
  },
  {
   "cell_type": "code",
   "execution_count": null,
   "metadata": {},
   "outputs": [],
   "source": []
  }
 ],
 "metadata": {
  "kernelspec": {
   "display_name": "Python 3",
   "language": "python",
   "name": "python3"
  },
  "language_info": {
   "codemirror_mode": {
    "name": "ipython",
    "version": 3
   },
   "file_extension": ".py",
   "mimetype": "text/x-python",
   "name": "python",
   "nbconvert_exporter": "python",
   "pygments_lexer": "ipython3",
   "version": "3.9.1"
  },
  "orig_nbformat": 4
 },
 "nbformat": 4,
 "nbformat_minor": 2
}
